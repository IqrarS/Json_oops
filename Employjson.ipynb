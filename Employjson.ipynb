{
 "cells": [
  {
   "cell_type": "code",
   "execution_count": 3,
   "id": "04629169",
   "metadata": {},
   "outputs": [
    {
     "name": "stdout",
     "output_type": "stream",
     "text": [
      "json file generated\n"
     ]
    }
   ],
   "source": [
    "import json\n",
    "\n",
    "x ={\"Employ_Details\":[\n",
    "{\"Employ_Name\" : \"Iqrar\", \"DOB\" : \"30/03/1997\", \"Height\" : \"5.7\", \"City\" : \"Chandrapur\", \"State\" : \"Maharashtra\" },\n",
    "{\"Employ_Name\" : \"Abrar\", \"DOB\" : \"20/11/1999\", \"Height\" : \"5.5\", \"City\" : \"Jaipur\", \"State\" : \"Rajasthan\"}, \n",
    "{\"Employ_Name\" : \"Riya\", \"DOB\" : \"05/05/2000\", \"Height\" : \"5.2\", \"City\" : \"Nagpur\", \"State\" : \"Maharashtra\"},\n",
    "{\"Employ_Name\" : \"Shahrukh\", \"DOB\" : \"11/11/2002\", \"Height\" : \"6.1\", \"City\" : \"Pune\", \"State\" : \"Maharashtra\"},\n",
    "{\"Employ_Name\" : \"Arjun\", \"DOB\" : \"30/01/1995\", \"Height\" : \"5.9\", \"City\" : \"Bangalore\", \"State\" : \"Karnataka\"}]}\n",
    "\n",
    "with open(\"Employ.json\",\"w\") as f : json.dump(x,f,indent=5)\n",
    "print(\"json file generated\")"
   ]
  },
  {
   "cell_type": "code",
   "execution_count": null,
   "id": "c407daa8",
   "metadata": {},
   "outputs": [],
   "source": []
  }
 ],
 "metadata": {
  "kernelspec": {
   "display_name": "Python 3 (ipykernel)",
   "language": "python",
   "name": "python3"
  },
  "language_info": {
   "codemirror_mode": {
    "name": "ipython",
    "version": 3
   },
   "file_extension": ".py",
   "mimetype": "text/x-python",
   "name": "python",
   "nbconvert_exporter": "python",
   "pygments_lexer": "ipython3",
   "version": "3.9.13"
  }
 },
 "nbformat": 4,
 "nbformat_minor": 5
}
