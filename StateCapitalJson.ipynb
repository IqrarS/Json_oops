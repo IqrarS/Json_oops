{
 "cells": [
  {
   "cell_type": "code",
   "execution_count": 2,
   "id": "963fb507",
   "metadata": {},
   "outputs": [
    {
     "name": "stdout",
     "output_type": "stream",
     "text": [
      "json file generated\n"
     ]
    }
   ],
   "source": [
    "import json\n",
    "\n",
    "States = dict()\n",
    "x = { \"Enter_states\":[\n",
    "{\"State_Name\" : \"Maharashtra\", \"Capital\" : \"Mumbai\"},\n",
    "{\"State_Name\" : \"M.P\", \"Capital\" : \"Bhopal\"},\n",
    "{\"State_Name\" : \"U.P\", \"Capital\" : \"Lucknow\"},\n",
    "{\"State_Name\" : \"Tamil Nadu\", \"Capital\" : \"Chennai\"},\n",
    "{\"State_Name\" : \"Goa\", \"Capital\" : \"Panaji\"},\n",
    "{\"State_Name\" : \"Rajasthan\", \"Capital\" : \"Jaipur\"},\n",
    "{\"State_Name\" : \"Telangana\", \"Capital\" : \"Hyderabad\"}]}\n",
    "\n",
    "with open(\"States,json\",\"w\") as f : json.dump (x,f,indent=3)\n",
    "print(\"json file generated\")"
   ]
  }
 ],
 "metadata": {
  "kernelspec": {
   "display_name": "Python 3 (ipykernel)",
   "language": "python",
   "name": "python3"
  },
  "language_info": {
   "codemirror_mode": {
    "name": "ipython",
    "version": 3
   },
   "file_extension": ".py",
   "mimetype": "text/x-python",
   "name": "python",
   "nbconvert_exporter": "python",
   "pygments_lexer": "ipython3",
   "version": "3.9.13"
  }
 },
 "nbformat": 4,
 "nbformat_minor": 5
}
