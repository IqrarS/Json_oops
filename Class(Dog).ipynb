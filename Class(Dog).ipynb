{
 "cells": [
  {
   "cell_type": "code",
   "execution_count": 7,
   "id": "2fe447ed",
   "metadata": {},
   "outputs": [
    {
     "name": "stdout",
     "output_type": "stream",
     "text": [
      "Dog Name :  Jim\n",
      "Dog Age :  4\n",
      "Dog Coat Color :  Black & White\n",
      "\n",
      "Dog Name :  Jam\n",
      "Dog Age :  2\n",
      "Dog Coat Color :  Brown & White\n",
      "\n"
     ]
    }
   ],
   "source": [
    "class Dog:\n",
    "    \n",
    "    def __init__(self,name,age,coat_color):\n",
    "        self.name = name\n",
    "        self.age = age\n",
    "        self.coat_color = coat_color\n",
    "        \n",
    "    def description(self):\n",
    "        print(\"Dog Name : \",self.name)\n",
    "        print(\"Dog Age : \",self.age,end=\"\")\n",
    "        return \"\"\n",
    "    \n",
    "    def get_info(self):\n",
    "        print(\"Dog Coat Color : \",self.coat_color)\n",
    "        return \"\"\n",
    "    \n",
    "class JackRussellTerrier(Dog):\n",
    "    \n",
    "    def __init__(self,name,age,coat_color):\n",
    "        super().__init__(name,age,coat_color)\n",
    "        \n",
    "    def description(self):\n",
    "        return super().description()\n",
    "    \n",
    "    def get_info(self):\n",
    "        return super().get_info()\n",
    "    \n",
    "class BullDog(Dog):\n",
    "    \n",
    "    def __init__(self,name,age,coat_color):\n",
    "        super().__init__(name,age,coat_color)\n",
    "        \n",
    "    def description(self):\n",
    "        return super().description()\n",
    "    \n",
    "    def get_info(self):\n",
    "        return super().get_info()\n",
    "    \n",
    "X = BullDog(\"Jim\",4,\"Black & White\")\n",
    "print(X.description())\n",
    "print(X.get_info())\n",
    "\n",
    "Y = JackRussellTerrier(\"Jam\",2,\"Brown & White\")\n",
    "print(Y.description())\n",
    "print(Y.get_info())"
   ]
  }
 ],
 "metadata": {
  "kernelspec": {
   "display_name": "Python 3 (ipykernel)",
   "language": "python",
   "name": "python3"
  },
  "language_info": {
   "codemirror_mode": {
    "name": "ipython",
    "version": 3
   },
   "file_extension": ".py",
   "mimetype": "text/x-python",
   "name": "python",
   "nbconvert_exporter": "python",
   "pygments_lexer": "ipython3",
   "version": "3.9.13"
  }
 },
 "nbformat": 4,
 "nbformat_minor": 5
}
